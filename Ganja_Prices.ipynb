{
 "cells": [
  {
   "cell_type": "code",
   "execution_count": null,
   "metadata": {},
   "outputs": [],
   "source": [
    "% matplotlib inline\n",
    "\n",
    "import matplotlib.pyplot as plt\n",
    "import plotly as ply\n",
    "import numpy as np\n",
    "import seaborn as sb\n",
    "import pandas as pd\n",
    "\n",
    "from plotly.offline import init_notebook_mode\n",
    "import plotly.figure_factory as ff\n",
    "\n",
    "init_notebook_mode(connected=True) "
   ]
  },
  {
   "cell_type": "code",
   "execution_count": null,
   "metadata": {
    "collapsed": true
   },
   "outputs": [],
   "source": [
    "data = pd.read_csv('marijuana-street-price-clean.csv')"
   ]
  },
  {
   "cell_type": "code",
   "execution_count": null,
   "metadata": {},
   "outputs": [],
   "source": [
    "header = ['State', 'High Quality', 'HQ Number', 'Medium Quality', 'MQ Number', 'Low Quality', 'LQ Number', 'Date']\n",
    "data.columns = header\n",
    "data.head()"
   ]
  },
  {
   "cell_type": "code",
   "execution_count": null,
   "metadata": {},
   "outputs": [],
   "source": [
    "table = data.groupby(['State']).mean()\n",
    "ax = table[['High Quality', 'Medium Quality', 'Low Quality']].plot.bar(figsize=(20,20), \n",
    "                                                                       fontsize=15,\n",
    "                                                                      color=['#f34565', 'g', 'r'])\n",
    "\n",
    "ax.set_title('Mean Price over the Year', fontsize=35)\n",
    "ax.set_xlabel('State', fontsize=35)\n",
    "ax.set_ylabel('Mean Price', fontsize=35)\n",
    "ax.legend(prop={'size':30})"
   ]
  },
  {
   "cell_type": "code",
   "execution_count": null,
   "metadata": {},
   "outputs": [],
   "source": [
    "table[['HQ Number', 'MQ Number', 'LQ Number']].plot.bar(figsize=(20,20))\n",
    "\n",
    "# 'California', 'Florida', 'New York'"
   ]
  },
  {
   "cell_type": "code",
   "execution_count": null,
   "metadata": {},
   "outputs": [],
   "source": [
    "type(table)\n",
    "\n",
    "\n",
    "table['State'] = table.index\n",
    "type(table['State'][1])"
   ]
  },
  {
   "cell_type": "code",
   "execution_count": null,
   "metadata": {},
   "outputs": [],
   "source": [
    "import colorlover as cl\n",
    "\n",
    "colors = cl.scales['5']['seq']['Greens']\n",
    "\n",
    "colors = [ [i/4, colors[i]] for i in range(5) ]\n",
    "\n",
    "print(colors)"
   ]
  },
  {
   "cell_type": "code",
   "execution_count": null,
   "metadata": {
    "collapsed": true
   },
   "outputs": [],
   "source": [
    "table['text'] = table['State'] + '<br>' +\\\n",
    "    'N Insertions: ' + table['HQ Number'].astype(int).astype(str)\n",
    "    "
   ]
  },
  {
   "cell_type": "code",
   "execution_count": null,
   "metadata": {},
   "outputs": [],
   "source": [
    "codes = pd.read_csv(\"USA_codes.csv\")\n",
    "codes = codes[['code', 'state']]\n",
    "codes.columns = ['code', 'State']\n",
    "table1 = pd.merge(table, codes, on='State')\n",
    "\n",
    "print(table1.shape)\n",
    "\n",
    "\n",
    "table1"
   ]
  },
  {
   "cell_type": "code",
   "execution_count": null,
   "metadata": {
    "collapsed": true
   },
   "outputs": [],
   "source": [
    "HQplot = [ dict(\n",
    "        type='choropleth',\n",
    "        colorscale = colors,\n",
    "        autocolorscale = False,\n",
    "        locations = table1['code'],\n",
    "        z = table1['High Quality'],\n",
    "        locationmode = 'USA-states',\n",
    "        text = table1['text'],\n",
    "        marker = dict(\n",
    "            line = dict (\n",
    "                color = 'rgb(255,255,255)',\n",
    "                width = 2\n",
    "            ) ),\n",
    "        colorbar = dict(\n",
    "            title = \"High Quality Prices\")\n",
    "        ) ]"
   ]
  },
  {
   "cell_type": "code",
   "execution_count": null,
   "metadata": {
    "collapsed": true
   },
   "outputs": [],
   "source": [
    "layout = dict(\n",
    "        title = '2014 USA High Quality Ganja Prizes',\n",
    "        geo = dict(\n",
    "            scope='usa',\n",
    "            projection=dict( type='albers usa' ),\n",
    "            showlakes = True,\n",
    "            lakecolor = 'rgb(255,255,255)'),\n",
    "             )\n",
    "    \n",
    "fig = dict( data=HQplot, layout=layout )"
   ]
  },
  {
   "cell_type": "code",
   "execution_count": null,
   "metadata": {},
   "outputs": [],
   "source": [
    "ply.offline.iplot(fig, image='jpeg')"
   ]
  },
  {
   "cell_type": "code",
   "execution_count": null,
   "metadata": {
    "collapsed": true
   },
   "outputs": [],
   "source": [
    "MQplot = [ dict(\n",
    "        type='choropleth',\n",
    "        colorscale = colors,\n",
    "        autocolorscale = False,\n",
    "        locations = table1['code'],\n",
    "        z = table1['Medium Quality'],\n",
    "        locationmode = 'USA-states',\n",
    "        text = table1['text'],\n",
    "        marker = dict(\n",
    "            line = dict (\n",
    "                color = 'rgb(255,255,255)',\n",
    "                width = 2\n",
    "            ) ),\n",
    "        colorbar = dict(\n",
    "            title = \"Medium Quality Price\")\n",
    "        ) ]\n",
    "\n",
    "\n",
    "layout = dict(\n",
    "        title = '2014 USA Medium Quality Ganja Prizes',\n",
    "        geo = dict(\n",
    "            scope='usa',\n",
    "            projection=dict( type='albers usa' ),\n",
    "            showlakes = True,\n",
    "            lakecolor = 'rgb(255,255,255)'),\n",
    "             )"
   ]
  },
  {
   "cell_type": "code",
   "execution_count": null,
   "metadata": {},
   "outputs": [],
   "source": [
    "fig = dict( data=MQplot, layout=layout )\n",
    "ply.offline.iplot(fig, image='jpeg')"
   ]
  },
  {
   "cell_type": "code",
   "execution_count": null,
   "metadata": {},
   "outputs": [],
   "source": [
    "LQplot = [ dict(\n",
    "        type='choropleth',\n",
    "        colorscale = colors,\n",
    "        autocolorscale = False,\n",
    "        locations = table1['code'],\n",
    "        z = table1['Low Quality'],\n",
    "        locationmode = 'USA-states',\n",
    "        text = table1['text'],\n",
    "        marker = dict(\n",
    "            line = dict (\n",
    "                color = 'rgb(255,255,255)',\n",
    "                width = 2\n",
    "            ) ),\n",
    "        colorbar = dict(\n",
    "            title = \"Medium Quality Price\")\n",
    "        ) ]\n",
    "\n",
    "\n",
    "layout = dict(\n",
    "        title = '2014 USA Medium Quality Ganja Prizes',\n",
    "        geo = dict(\n",
    "            scope='usa',\n",
    "            projection=dict( type='albers usa' ),\n",
    "            showlakes = True,\n",
    "            lakecolor = 'rgb(255,255,255)'),\n",
    "             )\n",
    "\n",
    "fig = dict( data=LQplot, layout=layout )\n",
    "ply.offline.iplot(fig, image='jpeg')"
   ]
  },
  {
   "cell_type": "code",
   "execution_count": null,
   "metadata": {},
   "outputs": [],
   "source": [
    "laws = pd.read_csv('clean_laws/clean_laws.csv')\n",
    "laws.head()"
   ]
  },
  {
   "cell_type": "code",
   "execution_count": null,
   "metadata": {},
   "outputs": [],
   "source": [
    "print(laws[\"Legal Status\"].unique())\n",
    "print(laws[\"Medicinal\"].unique())\n",
    "print(laws['Decriminalized'].unique())"
   ]
  },
  {
   "cell_type": "code",
   "execution_count": null,
   "metadata": {},
   "outputs": [],
   "source": [
    "mask_FL = laws['Legal Status'] == 'Fully Legal'\n",
    "print(sum(mask_FL))\n",
    "\n",
    "mask_ME = laws['Medicinal'] == 'Yes'\n",
    "print(sum(mask_ME))\n",
    "\n",
    "mask_DE = (laws['Decriminalized'] == 'Yes') | (laws['Decriminalized'] == 'Reduced')\n",
    "print(sum(mask_DE))\n",
    "\n",
    "mask_MD = (laws['Medicinal'] == 'Yes') & (mask_DE)\n",
    "print(sum(mask_MD))\n",
    "\n",
    "mask_FI = laws['Legal Status'] == 'Fully Illegal'\n",
    "print(sum(mask_FI))"
   ]
  },
  {
   "cell_type": "code",
   "execution_count": null,
   "metadata": {
    "collapsed": true
   },
   "outputs": [],
   "source": [
    "laws.loc[mask_DE, 'cat'] = 'Decriminalized'\n",
    "laws.loc[mask_ME, 'cat'] = 'Medicinal'\n",
    "laws.loc[mask_MD, 'cat'] = 'Medicinal and Decriminalized'\n",
    "laws.loc[mask_FL, 'cat'] = 'Fully Legal'\n",
    "laws.loc[mask_FI, 'cat'] = 'Fully Illegal'"
   ]
  },
  {
   "cell_type": "code",
   "execution_count": null,
   "metadata": {},
   "outputs": [],
   "source": [
    "laws"
   ]
  },
  {
   "cell_type": "code",
   "execution_count": null,
   "metadata": {},
   "outputs": [],
   "source": [
    "colors = cl.scales['5']['seq']['Reds']\n",
    "colors = [ [ i/4, colors[i]] for i in range(5) ]\n",
    "\n",
    "print(colors)\n",
    "\n",
    "categ = [ 'Fully Illegal', 'Decriminalized', 'Medicinal', 'Medicinal and Decriminalized', 'Fully Legal']\n",
    "numbs = [ 1-i/4 for i in range(5)]\n",
    "\n",
    "subs = dict(zip(categ, numbs))\n",
    "\n",
    "print(subs)\n"
   ]
  },
  {
   "cell_type": "code",
   "execution_count": null,
   "metadata": {},
   "outputs": [],
   "source": [
    "laws['values'] = laws['cat'].replace(subs)  # bug of pandas\n",
    "laws"
   ]
  },
  {
   "cell_type": "code",
   "execution_count": null,
   "metadata": {
    "collapsed": true
   },
   "outputs": [],
   "source": [
    "\n",
    "\n",
    "Laws_plot = [ dict(\n",
    "        type='choropleth',\n",
    "        colorscale = colors,\n",
    "        autocolorscale = False,\n",
    "        locations = laws['code'],\n",
    "        z = laws['values'],\n",
    "        locationmode = 'USA-states',\n",
    "        text = laws['cat'],\n",
    "        marker = dict(\n",
    "            line = dict (\n",
    "                color = 'rgb(255,255,255)',\n",
    "                width = 2\n",
    "            ) ),\n",
    "        colorbar = dict(\n",
    "            title = \"Laws in The USA\")\n",
    "        ) ]"
   ]
  },
  {
   "cell_type": "code",
   "execution_count": null,
   "metadata": {
    "collapsed": true
   },
   "outputs": [],
   "source": [
    "layout = dict(\n",
    "        title = '2018 USA Legislation for Cannabis',\n",
    "        geo = dict(\n",
    "            scope='usa',\n",
    "            projection=dict( type='albers usa' ),\n",
    "            showlakes = True,\n",
    "            lakecolor = 'rgb(255,255,255)'),\n",
    "             )\n",
    "    \n",
    "fig = dict( data=Laws_plot, layout=layout )"
   ]
  },
  {
   "cell_type": "code",
   "execution_count": null,
   "metadata": {},
   "outputs": [],
   "source": [
    "ply.offline.iplot(fig, image='jpeg')"
   ]
  },
  {
   "cell_type": "code",
   "execution_count": null,
   "metadata": {},
   "outputs": [],
   "source": [
    "help(ply.plotly.iplot)"
   ]
  },
  {
   "cell_type": "code",
   "execution_count": null,
   "metadata": {},
   "outputs": [],
   "source": [
    "Laws_plot = [ dict(\n",
    "        type='choropleth',\n",
    "        colorscale = colors,\n",
    "        showscale=False,\n",
    "        showlegend=True,\n",
    "        name='dfs',\n",
    "        autocolorscale = False,\n",
    "        locations = laws.loc[mask_FL, 'code'],\n",
    "        z = laws.loc[mask_FL ,'values'],\n",
    "        locationmode = 'USA-states',\n",
    "        text = laws.loc[mask_FL, 'cat'],\n",
    "        marker = dict(\n",
    "            line = dict (\n",
    "                color = 'rgb(0,0,0)',\n",
    "                width = 0.5\n",
    "            ) )\n",
    "        ) ]\n",
    "\n",
    "\n",
    "Laws_plot1 = [ dict(\n",
    "        type='choropleth',\n",
    "        colorscale = colors,\n",
    "        showscale=False,\n",
    "        showlegend=True,\n",
    "        name='dfs',\n",
    "        autocolorscale = False,\n",
    "        locations = laws.loc[ 1-mask_FL, 'code'],\n",
    "        z = laws.loc[ 1-mask_FL ,'values'],\n",
    "        locationmode = 'USA-states',\n",
    "        text = laws.loc[ 1-mask_FL, 'cat'],\n",
    "        marker = dict(\n",
    "            line = dict (\n",
    "                color = 'rgb(0,0,0)',\n",
    "                width = 0.5\n",
    "            ) )\n",
    "        ) ]\n",
    "\n",
    "layout = dict(\n",
    "        title = '2018 USA Legislation for Cannabis',\n",
    "        showlegend=True,\n",
    "        geo = dict(\n",
    "            scope='usa',\n",
    "            projection=dict( type='albers usa' ),\n",
    "            showlakes = True,\n",
    "            lakecolor = 'rgb(255,255,255)'),\n",
    "             )\n",
    "    \n",
    "fig = dict( data=[Laws_plot, Laws_plot1], layout=layout )\n",
    "\n",
    "ply.offline.iplot(fig, image='jpeg')"
   ]
  },
  {
   "cell_type": "code",
   "execution_count": null,
   "metadata": {},
   "outputs": [],
   "source": [
    "help(ply.graph_objs.choropleth.ColorBar)"
   ]
  },
  {
   "cell_type": "code",
   "execution_count": null,
   "metadata": {
    "collapsed": true
   },
   "outputs": [],
   "source": []
  }
 ],
 "metadata": {
  "kernelspec": {
   "display_name": "Python 3",
   "language": "python",
   "name": "python3"
  },
  "language_info": {
   "codemirror_mode": {
    "name": "ipython",
    "version": 3
   },
   "file_extension": ".py",
   "mimetype": "text/x-python",
   "name": "python",
   "nbconvert_exporter": "python",
   "pygments_lexer": "ipython3",
   "version": "3.6.3"
  }
 },
 "nbformat": 4,
 "nbformat_minor": 2
}
