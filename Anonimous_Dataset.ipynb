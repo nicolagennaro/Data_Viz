{
 "cells": [
  {
   "cell_type": "code",
   "execution_count": null,
   "metadata": {},
   "outputs": [],
   "source": [
    "% matplotlib inline\n",
    "\n",
    "import matplotlib.pyplot as plt\n",
    "import plotly as ply\n",
    "import numpy as np\n",
    "import seaborn as sb\n",
    "import pandas as pd\n",
    "\n",
    "from plotly.offline import init_notebook_mode\n",
    "import plotly.figure_factory as ff\n",
    "\n",
    "init_notebook_mode(connected=True) "
   ]
  },
  {
   "cell_type": "code",
   "execution_count": null,
   "metadata": {},
   "outputs": [],
   "source": [
    "# pd.options.display.float_format = '{:,.4f}'.format\n",
    "\n",
    "data = pd.read_csv('group1_data.csv')\n",
    "data.head()"
   ]
  },
  {
   "cell_type": "code",
   "execution_count": null,
   "metadata": {},
   "outputs": [],
   "source": [
    "data = data[['x1', 'x2', 'x3', 'x4', 'Category']]\n",
    "\n",
    "header = ['X1', 'X2', 'X3', 'X4', 'Category']\n",
    "data.columns = header\n",
    "print(data.shape)\n",
    "\n",
    "data.head()"
   ]
  },
  {
   "cell_type": "code",
   "execution_count": null,
   "metadata": {},
   "outputs": [],
   "source": [
    "# numpy around(vec, num digits)\n",
    "\n",
    "data[\"X1\"].apply( lambda x: np.around(x, 6))\n",
    "\n",
    "df_table = ff.create_table(data.head(10), )\n",
    "ply.offline.iplot(df_table, filename='iris-data-head')"
   ]
  },
  {
   "cell_type": "code",
   "execution_count": null,
   "metadata": {},
   "outputs": [],
   "source": []
  },
  {
   "cell_type": "code",
   "execution_count": null,
   "metadata": {},
   "outputs": [],
   "source": [
    "import colormap as cm\n",
    "\n",
    "cmap = [cm.hex2rgb('#636efa'), cm.hex2rgb('#19d3f3')]  # A, B\n",
    "cmap[0] = list(cmap[0])\n",
    "cmap[1] = list(cmap[1])\n",
    "\n",
    "for i in range(2):\n",
    "    for j in range(2):\n",
    "        cmap[i][j] = cmap[i][j] + 40\n",
    "\n",
    "for i in range(2):\n",
    "    cmap[i][2] = cmap[i][2] + 5\n",
    "    \n",
    "    \n",
    "cmap = [ cm.rgb2hex(cmap[i][0], cmap[i][1], cmap[i][2]) for i in range(2) ]\n",
    "\n",
    "print(cmap)"
   ]
  },
  {
   "cell_type": "code",
   "execution_count": null,
   "metadata": {},
   "outputs": [],
   "source": [
    "# cmap = ['#636efa', '#19d3f3']  # A, B\n",
    "\n",
    "t_colors = []\n",
    "\n",
    "for _ in data.Category:\n",
    "    if _ == 'A':\n",
    "        t_colors.append(cmap[0])\n",
    "    else:\n",
    "        t_colors.append(cmap[1])\n",
    "        \n",
    "data[\"col\"] = t_colors"
   ]
  },
  {
   "cell_type": "code",
   "execution_count": null,
   "metadata": {},
   "outputs": [],
   "source": [
    "trace0 = ply.graph_objs.Table(\n",
    "  header = dict(\n",
    "    values = ['X1', 'X2', 'X3', 'X4', 'Category'],\n",
    "    line = dict(color = 'white'),\n",
    "    fill = dict(color = 'white'),\n",
    "    align = ['center'],\n",
    "    font = dict(color = 'black', size = 12)\n",
    "  ),\n",
    "  cells = dict(\n",
    "    values = [data.X1, data.X2, data.X3, data.X4, data.Category],\n",
    "    line = dict(color = 'black'),\n",
    "    fill = dict(color = [data.col]),\n",
    "    align = 'center',\n",
    "    font = dict(color = 'black', size = 11)\n",
    "    ))"
   ]
  },
  {
   "cell_type": "code",
   "execution_count": null,
   "metadata": {},
   "outputs": [],
   "source": [
    "ply.offline.iplot([trace0], image='jpeg' )"
   ]
  },
  {
   "cell_type": "code",
   "execution_count": null,
   "metadata": {
    "collapsed": true
   },
   "outputs": [],
   "source": [
    "classes = np.unique(data['Category'].values).tolist()\n",
    "class_code={classes[k]: k for k in range(2)}"
   ]
  },
  {
   "cell_type": "code",
   "execution_count": null,
   "metadata": {
    "collapsed": true
   },
   "outputs": [],
   "source": [
    "pl_colorscale=[[0.0, '#19d3f3'],\n",
    "               [0.333, '#19d3f3'],\n",
    "               [0.333, '#e763fa'],\n",
    "               [0.666, '#e763fa'],\n",
    "               [0.666, '#636efa'],\n",
    "               [1, '#636efa']]"
   ]
  },
  {
   "cell_type": "code",
   "execution_count": null,
   "metadata": {
    "collapsed": true
   },
   "outputs": [],
   "source": [
    "data_A = data[ data[\"Category\"] == 'A']\n",
    "data_B = data[ data[\"Category\"] == 'B']\n",
    "\n",
    "color_vals_A = [ 0 for _ in range(data_A.shape[0])]\n",
    "\n",
    "color_vals_B = [ 1 for _ in range(data_B.shape[0])]\n"
   ]
  },
  {
   "cell_type": "code",
   "execution_count": null,
   "metadata": {
    "collapsed": true
   },
   "outputs": [],
   "source": [
    "trace1 = ply.graph_objs.Splom(dimensions=[dict(label='X1', values=data_A['X1']),\n",
    "                                          dict(label='X2', values=data_A['X2']),\n",
    "                                          dict(label='X3', values=data_A['X3']),\n",
    "                                          dict(label='X4', values=data_A['X4'])],\n",
    "                                            name=\"A\",\n",
    "                #default axes name assignment :\n",
    "                #xaxes= ['x1','x2',  'x3'],\n",
    "                #yaxes=  ['y1', 'y2', 'y3'], \n",
    "                marker=dict(color='#636efa',\n",
    "                            size=7,\n",
    "                            colorscale=pl_colorscale,\n",
    "                            showscale=False,\n",
    "                            line=dict(width=0.7,\n",
    "                                      color='rgb(230,230,230)'))\n",
    "                )\n",
    "\n",
    "trace2 = ply.graph_objs.Splom(dimensions=[dict(label='X1', values=data_B['X1']),\n",
    "                                          dict(label='X2', values=data_B['X2']),\n",
    "                                          dict(label='X3', values=data_B['X3']),\n",
    "                                          dict(label='X4', values=data_B['X4'])],\n",
    "                                            name=\"B\",\n",
    "                #default axes name assignment :\n",
    "                #xaxes= ['x1','x2',  'x3'],\n",
    "                #yaxes=  ['y1', 'y2', 'y3'], \n",
    "                marker=dict(color='#19d3f3',\n",
    "                            size=7,\n",
    "                            colorscale=pl_colorscale,\n",
    "                            showscale=False,\n",
    "                            line=dict(width=0.7,\n",
    "                                      color='rgb(230,230,230)'))\n",
    "                )"
   ]
  },
  {
   "cell_type": "code",
   "execution_count": null,
   "metadata": {
    "scrolled": false
   },
   "outputs": [],
   "source": [
    "axis = dict(showline=True, zeroline=False, gridcolor='#fff', ticklen=4)\n",
    "\n",
    "layout = ply.graph_objs.Layout( title='Scatter Matrix',\n",
    "                               showlegend=True,\n",
    "    dragmode='select',\n",
    "    width=1000,\n",
    "    height=1000,\n",
    "    autosize=False,\n",
    "    hovermode='closest',\n",
    "    plot_bgcolor='rgba(240,240,240, 0.95)',\n",
    "    xaxis1=dict(axis),\n",
    "    xaxis2=dict(axis),\n",
    "    xaxis3=dict(axis),\n",
    "    xaxis4=dict(axis),\n",
    "    yaxis1=dict(axis),\n",
    "    yaxis2=dict(axis),\n",
    "    yaxis3=dict(axis),\n",
    "    yaxis4=dict(axis)\n",
    ")\n",
    "\n",
    "trace1['diagonal'].update(visible=False)\n",
    "trace2['diagonal'].update(visible=False)\n",
    "fig1 = dict(data=[trace1, trace2], layout=layout)\n",
    "ply.offline.iplot(fig1, image='jpeg')"
   ]
  },
  {
   "cell_type": "code",
   "execution_count": null,
   "metadata": {},
   "outputs": [],
   "source": [
    "help(ply.graph_objs.Scatter3d)"
   ]
  },
  {
   "cell_type": "code",
   "execution_count": null,
   "metadata": {
    "collapsed": true
   },
   "outputs": [],
   "source": [
    "trace1 = ply.graph_objs.Scatter3d(\n",
    "    x=data_A['X1'],\n",
    "    y=data_A['X2'],\n",
    "    z=data_A['X3'],\n",
    "    name=\"A\",\n",
    "    mode='markers',\n",
    "    marker=dict(\n",
    "        color='#636efa',\n",
    "        size=12,\n",
    "        line=dict(\n",
    "            color='rgba(217, 217, 217, 0.14)',\n",
    "            width=0.5\n",
    "        ),\n",
    "        opacity=0.8\n",
    "    )\n",
    ")\n",
    "\n",
    "trace2 = ply.graph_objs.Scatter3d(\n",
    "    x=data_B['X1'],\n",
    "    y=data_B['X2'],\n",
    "    z=data_B['X3'],\n",
    "    name=\"B\",\n",
    "    mode='markers',\n",
    "    marker=dict(\n",
    "        color='#19d3f3',\n",
    "        size=12,\n",
    "        line=dict(\n",
    "            color='rgba(217, 217, 217, 0.14)',\n",
    "            width=0.5\n",
    "        ),\n",
    "        opacity=0.8\n",
    "    )\n",
    ")"
   ]
  },
  {
   "cell_type": "code",
   "execution_count": null,
   "metadata": {},
   "outputs": [],
   "source": [
    "data = [trace1, trace2]\n",
    "layout = ply.graph_objs.Layout(\n",
    "    scene=ply.graph_objs.Scene(\n",
    "        xaxis=ply.graph_objs.layout.scene.XAxis(title='X1'),\n",
    "        yaxis=ply.graph_objs.layout.scene.YAxis(title='X2'),\n",
    "        zaxis=ply.graph_objs.layout.scene.ZAxis(title='X3')),\n",
    "    margin=dict(\n",
    "        l=0,\n",
    "        r=0,\n",
    "        b=0,\n",
    "        t=0\n",
    "    )\n",
    ")\n",
    "fig = ply.graph_objs.Figure(data=data, layout=layout)\n",
    "ply.offline.iplot(fig, filename='simple-3d-scatter')"
   ]
  },
  {
   "cell_type": "code",
   "execution_count": null,
   "metadata": {
    "collapsed": true
   },
   "outputs": [],
   "source": []
  }
 ],
 "metadata": {
  "kernelspec": {
   "display_name": "Python 3",
   "language": "python",
   "name": "python3"
  },
  "language_info": {
   "codemirror_mode": {
    "name": "ipython",
    "version": 3
   },
   "file_extension": ".py",
   "mimetype": "text/x-python",
   "name": "python",
   "nbconvert_exporter": "python",
   "pygments_lexer": "ipython3",
   "version": "3.6.3"
  }
 },
 "nbformat": 4,
 "nbformat_minor": 2
}
